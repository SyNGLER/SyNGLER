{
 "cells": [
  {
   "cell_type": "markdown",
   "metadata": {},
   "source": [
    "## Config csv Generation"
   ]
  },
  {
   "cell_type": "code",
   "execution_count": null,
   "metadata": {},
   "outputs": [],
   "source": [
    "import csv\n",
    "\n",
    "n_values = [500, 1000, 1500]\n",
    "r_values = [2, 3, 4]\n",
    "sparse_level = 0.0\n",
    "seed_start = 0 \n",
    "num_seeds = 200\n",
    "\n",
    "for n in n_values:\n",
    "    for r in r_values:\n",
    "        rows = []\n",
    "        seed_counter = seed_start\n",
    "        for _ in range(num_seeds):\n",
    "            rows.append({\n",
    "                \"n\": n,\n",
    "                \"r\": r,\n",
    "                \"seed\": seed_counter,\n",
    "                \"sparse_level\":sparse_level\n",
    "            })\n",
    "            seed_counter += 1\n",
    "        seed_counter = seed_start\n",
    "\n",
    "        csv_path = f\"generate_n={n}_r={r}_sparse={sparse_level}.csv\"\n",
    "        with open(csv_path, \"w\", newline=\"\") as f:\n",
    "            writer = csv.DictWriter(f, fieldnames=[\"n\", \"r\", \"seed\", \"sparse_level\"])\n",
    "            writer.writeheader()\n",
    "            writer.writerows(rows)\n"
   ]
  },
  {
   "cell_type": "code",
   "execution_count": null,
   "metadata": {},
   "outputs": [],
   "source": [
    "import csv\n",
    "\n",
    "n_values = [500, 1000, 1500]\n",
    "r_values = [2, 3, 4]\n",
    "sparse_level = 0.0\n",
    "seed_start = 0 \n",
    "num_seeds = 200\n",
    "\n",
    "eta_map = {\n",
    "    500: 0.5,\n",
    "    1000: 1.0,\n",
    "    1500: 1.0,\n",
    "}\n",
    "\n",
    "for n in n_values:\n",
    "    if n not in eta_map:\n",
    "        raise ValueError(f\"eta_0 not defined for n={n}\")\n",
    "    eta_0 = eta_map[n]\n",
    "\n",
    "    for r in r_values:\n",
    "        seed_counter = seed_start\n",
    "        rows = []\n",
    "        for _ in range(num_seeds):\n",
    "            rows.append({\n",
    "                \"n\": n,\n",
    "                \"r\": r,\n",
    "                \"seed\": seed_counter,\n",
    "                \"sparse_level\": sparse_level,\n",
    "                \"eta_0\": eta_0,\n",
    "            })\n",
    "            seed_counter += 1\n",
    "        seed_counter = seed_start\n",
    "\n",
    "        csv_path = f\"run_n={n}_r={r}_sparse={sparse_level}.csv\"\n",
    "        with open(csv_path, \"w\", newline=\"\") as f:\n",
    "            writer = csv.DictWriter(f, fieldnames=[\"n\", \"r\", \"seed\", \"sparse_level\", \"eta_0\"])\n",
    "            writer.writeheader()\n",
    "            writer.writerows(rows)"
   ]
  }
 ],
 "metadata": {
  "kernelspec": {
   "display_name": "base",
   "language": "python",
   "name": "python3"
  },
  "language_info": {
   "codemirror_mode": {
    "name": "ipython",
    "version": 3
   },
   "file_extension": ".py",
   "mimetype": "text/x-python",
   "name": "python",
   "nbconvert_exporter": "python",
   "pygments_lexer": "ipython3",
   "version": "3.12.2"
  }
 },
 "nbformat": 4,
 "nbformat_minor": 2
}
